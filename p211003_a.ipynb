{
  "nbformat": 4,
  "nbformat_minor": 0,
  "metadata": {
    "colab": {
      "name": "p211003_a.ipynb",
      "provenance": [],
      "collapsed_sections": [],
      "authorship_tag": "ABX9TyOQYfQpqYOCrf1dZS/FXMK7",
      "include_colab_link": true
    },
    "kernelspec": {
      "name": "python3",
      "display_name": "Python 3"
    },
    "language_info": {
      "name": "python"
    }
  },
  "cells": [
    {
      "cell_type": "markdown",
      "metadata": {
        "id": "view-in-github",
        "colab_type": "text"
      },
      "source": [
        "<a href=\"https://colab.research.google.com/github/clccclcc/ai_bot1/blob/master/p211003_a.ipynb\" target=\"_parent\"><img src=\"https://colab.research.google.com/assets/colab-badge.svg\" alt=\"Open In Colab\"/></a>"
      ]
    },
    {
      "cell_type": "markdown",
      "metadata": {
        "id": "PR6nzXJXoa0g"
      },
      "source": [
        "텍스트 셀 입니다.\n"
      ]
    },
    {
      "cell_type": "code",
      "metadata": {
        "id": "KG30R2EIoPWe"
      },
      "source": [
        "import numpy as np\n",
        "import pandas as pd\n",
        "import matplotlib.pyplot as plt\n",
        "import sys"
      ],
      "execution_count": 7,
      "outputs": []
    },
    {
      "cell_type": "code",
      "metadata": {
        "colab": {
          "base_uri": "https://localhost:8080/"
        },
        "id": "A5ti_HswoY8O",
        "outputId": "a8c816bf-0a0c-4f12-f8e6-679249d868d4"
      },
      "source": [
        "print(np.__version__)\n",
        "print(pd.__version__)\n",
        "print(sys.version)"
      ],
      "execution_count": 9,
      "outputs": [
        {
          "output_type": "stream",
          "name": "stdout",
          "text": [
            "1.19.5\n",
            "1.1.5\n",
            "3.7.12 (default, Sep 10 2021, 00:21:48) \n",
            "[GCC 7.5.0]\n"
          ]
        }
      ]
    },
    {
      "cell_type": "code",
      "metadata": {
        "id": "vW9cRaw5o0WA"
      },
      "source": [
        "def get_max(a,b,c):\n",
        "    max = a\n",
        "    if max < b:\n",
        "        max = b\n",
        "    if max  < c:\n",
        "        max = c\n",
        "\n",
        "    return max\n",
        "\n",
        "def Lab1():\n",
        "    max = get_max(3,7,2)\n",
        "    print('max:',max)\n"
      ],
      "execution_count": 3,
      "outputs": []
    },
    {
      "cell_type": "code",
      "metadata": {
        "colab": {
          "base_uri": "https://localhost:8080/"
        },
        "id": "xwLv_h_YpQ_Y",
        "outputId": "4b2a9b8a-c6a1-4e48-8e56-edd6ea2db8eb"
      },
      "source": [
        "Lab1()"
      ],
      "execution_count": 4,
      "outputs": [
        {
          "output_type": "stream",
          "name": "stdout",
          "text": [
            "max: 7\n"
          ]
        }
      ]
    }
  ]
}